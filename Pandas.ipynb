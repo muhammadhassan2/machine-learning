{
 "cells": [
  {
   "cell_type": "markdown",
   "metadata": {},
   "source": [
    "# Pandas "
   ]
  },
  {
   "cell_type": "markdown",
   "metadata": {},
   "source": [
    "import pandas and numpy libraries python "
   ]
  },
  {
   "cell_type": "code",
   "execution_count": 124,
   "metadata": {},
   "outputs": [],
   "source": [
    "import pandas as pd\n",
    "import numpy as np"
   ]
  },
  {
   "cell_type": "markdown",
   "metadata": {},
   "source": [
    "# Reading & saving CSV files from pandas"
   ]
  },
  {
   "cell_type": "code",
   "execution_count": 133,
   "metadata": {},
   "outputs": [],
   "source": [
    "data=pd.read_csv(\"E:\\\\housing.csv\") # reading data\n",
    "data.to_csv(\"E:\\\\newdata.csv\") # saving data\n"
   ]
  },
  {
   "cell_type": "markdown",
   "metadata": {},
   "source": [
    "# splitting the data into two sets (train_data,test_data)"
   ]
  },
  {
   "cell_type": "code",
   "execution_count": 72,
   "metadata": {},
   "outputs": [],
   "source": [
    "def split_train_test(data,test_ratio):\n",
    "  shuffled_indices = np.random.permutation(len(data))\n",
    "  test_set_size = int(len(data) * test_ratio)\n",
    "  test_indices = shuffled_indices[:test_set_size]\n",
    "  train_indices = shuffled_indices[test_set_size:]\n",
    "  return data.iloc[train_indices], data.iloc[test_indices]\n",
    "train_set,test_set=split_train_test(data,.2)\n"
   ]
  },
  {
   "cell_type": "markdown",
   "metadata": {},
   "source": [
    "# some describing functions of dataframe"
   ]
  },
  {
   "cell_type": "markdown",
   "metadata": {},
   "source": [
    "functions like \n",
    "info(): get a quick description of the data, in particular the\n",
    "total number of rows, and each attribute’s type and number of non-null values\n",
    "head(5): get the first 5 rows in dataframe\n",
    "tail(5): get the last 5 rows in dataframe\n",
    "describe():method shows a summary of the\n",
    "numerical attributes like count, mean, min, and max\n",
    "value_counts(): get the containing counts of unique values."
   ]
  },
  {
   "cell_type": "code",
   "execution_count": 94,
   "metadata": {
    "scrolled": true
   },
   "outputs": [
    {
     "name": "stdout",
     "output_type": "stream",
     "text": [
      "<class 'pandas.core.frame.DataFrame'>\n",
      "RangeIndex: 20640 entries, 0 to 20639\n",
      "Data columns (total 10 columns):\n",
      "longitude             20640 non-null float64\n",
      "latitude              20640 non-null float64\n",
      "housing_median_age    20640 non-null int64\n",
      "total_rooms           20640 non-null int64\n",
      "total_bedrooms        20433 non-null float64\n",
      "population            20640 non-null int64\n",
      "households            20640 non-null int64\n",
      "median_income         20640 non-null float64\n",
      "median_house_value    20640 non-null int64\n",
      "ocean_proximity       20640 non-null object\n",
      "dtypes: float64(4), int64(5), object(1)\n",
      "memory usage: 1.6+ MB\n"
     ]
    }
   ],
   "source": [
    "information=data.info()\n",
    "heat5=data.head(5)\n",
    "tail5=data.tail(5)\n",
    "describe=data.describe()\n",
    "count=data['population'].value_counts()"
   ]
  },
  {
   "cell_type": "markdown",
   "metadata": {},
   "source": [
    "# Dealing with the missing Data"
   ]
  },
  {
   "cell_type": "code",
   "execution_count": 82,
   "metadata": {},
   "outputs": [],
   "source": [
    "data2=pd.read_csv(\"E:\\\\t.csv\")\n",
    "data.fillna(5) #replace null values with 5\n",
    "data.dropna() #delete the row the contain the null value\n",
    "data.drop(data.columns[data.apply(lambda col: col.isnull().sum() > 0)], axis=1) # drop columns with no. of NaN > 0\n",
    "num_of_nulls=data[\"total_bedrooms\"].isnull().sum() # to get the number of null cells in col\n",
    "            "
   ]
  },
  {
   "cell_type": "markdown",
   "metadata": {},
   "source": [
    "# Handling Text and Categorical Attributes"
   ]
  },
  {
   "cell_type": "markdown",
   "metadata": {},
   "source": [
    "we will use pandas function (get_dummies) to make OneHotEncoder with drop_first to remove redundant columns"
   ]
  },
  {
   "cell_type": "code",
   "execution_count": 83,
   "metadata": {},
   "outputs": [],
   "source": [
    "new_data= pd.get_dummies(data,drop_first=True)\n"
   ]
  },
  {
   "cell_type": "code",
   "execution_count": 97,
   "metadata": {},
   "outputs": [],
   "source": [
    "\n",
    "ar=np.array([[-1, 2], [-0.5, 6], [0, 10], [1, 18]])\n",
    "df = pd.DataFrame({'A':[4,2,3], 'B':[5,-0.5,6],'c':[6,0,10],'d':[2,1,18]})\n",
    "df2 = df.apply(lambda x:(x.astype(float) - min(x))/(max(x)-min(x)), axis = 0)"
   ]
  },
  {
   "cell_type": "markdown",
   "metadata": {},
   "source": [
    "# getting Correlations between coulmns"
   ]
  },
  {
   "cell_type": "code",
   "execution_count": 111,
   "metadata": {},
   "outputs": [
    {
     "name": "stdout",
     "output_type": "stream",
     "text": [
      "longitude             0.099773\n",
      "latitude             -0.108785\n",
      "housing_median_age   -0.296244\n",
      "total_rooms           0.857126\n",
      "total_bedrooms        0.877747\n",
      "population            1.000000\n",
      "households            0.907222\n",
      "median_income         0.004834\n",
      "median_house_value   -0.024650\n",
      "Name: population, dtype: float64\n"
     ]
    }
   ],
   "source": [
    "corr_matrix = data.corr()\n",
    "print(corr_matrix['population'])\n",
    "# the positive value means that strong positive correlation  for example, the median house value tends to \n",
    "#go up when the median income goes up "
   ]
  },
  {
   "cell_type": "markdown",
   "metadata": {},
   "source": [
    "# Other functions"
   ]
  },
  {
   "cell_type": "code",
   "execution_count": 98,
   "metadata": {},
   "outputs": [
    {
     "name": "stdout",
     "output_type": "stream",
     "text": [
      "   A    B   c   d\n",
      "0  4  5.0   6   2\n",
      "1  2 -0.5   0   1\n",
      "2  3  6.0  10  18\n"
     ]
    }
   ],
   "source": [
    "print(df)"
   ]
  },
  {
   "cell_type": "code",
   "execution_count": 132,
   "metadata": {},
   "outputs": [],
   "source": [
    "df.sort_values(by=['A','B'],ascending=True) # sorting by columns\n",
    "#sum\n",
    "t_sum=data.sum()\n",
    "min_v=data.min() # min values for all columns\n",
    "max_v=data.max() # max values for all columns\n",
    "data1=data.replace([np.nan],100) # replace all null values with 100"
   ]
  },
  {
   "cell_type": "markdown",
   "metadata": {},
   "source": [
    "# indexind & selecting data"
   ]
  },
  {
   "cell_type": "markdown",
   "metadata": {},
   "source": [
    "Using :\n",
    "loc() : label based\n",
    "iloc(): integer based\n",
    "ix()  :both label and integer based    "
   ]
  },
  {
   "cell_type": "code",
   "execution_count": 126,
   "metadata": {},
   "outputs": [],
   "source": [
    "loc=data.loc[0:15,['population']] # get the first 15 value of population columns\n",
    "iloc=data.iloc[0:15,0:2] # get the first 15 values of first two cloumns\n",
    "#ix=data.ix[0:15,'population']\n",
    "get_slice=data[['population','households']] # get two columns form dataframe\n"
   ]
  },
  {
   "cell_type": "markdown",
   "metadata": {},
   "source": [
    "# creat Series and Dataframe"
   ]
  },
  {
   "cell_type": "code",
   "execution_count": 147,
   "metadata": {},
   "outputs": [
    {
     "name": "stdout",
     "output_type": "stream",
     "text": [
      "[1 2 3 4 5]\n"
     ]
    }
   ],
   "source": [
    "series=pd.Series([1,2,3,4,5]) #comes with default keys\n",
    "index=['a','b','c','d','f']\n",
    "series.index=index # to change the series index\n",
    "print(series.values)\n",
    "Sum_S=series.sum()"
   ]
  },
  {
   "cell_type": "code",
   "execution_count": 158,
   "metadata": {},
   "outputs": [
    {
     "name": "stdout",
     "output_type": "stream",
     "text": [
      "   a  b\n",
      "0  1  3\n",
      "1  2  4\n",
      "2  3  5\n",
      "a     6\n",
      "b    12\n",
      "dtype: int64\n",
      "   0  1  2\n",
      "a  1  2  3\n",
      "b  3  4  5\n"
     ]
    }
   ],
   "source": [
    "df=pd.DataFrame({\n",
    "    'a':[1, 2, 3],\n",
    "    'b':[3 ,4 ,5]\n",
    "})\n",
    "print(df)\n",
    "print(df.sum()) # sum of dataframe\n",
    "print(df.T)  # df transpose"
   ]
  },
  {
   "cell_type": "code",
   "execution_count": null,
   "metadata": {},
   "outputs": [],
   "source": []
  },
  {
   "cell_type": "code",
   "execution_count": null,
   "metadata": {},
   "outputs": [],
   "source": []
  }
 ],
 "metadata": {
  "kernelspec": {
   "display_name": "Python 3",
   "language": "python",
   "name": "python3"
  },
  "language_info": {
   "codemirror_mode": {
    "name": "ipython",
    "version": 3
   },
   "file_extension": ".py",
   "mimetype": "text/x-python",
   "name": "python",
   "nbconvert_exporter": "python",
   "pygments_lexer": "ipython3",
   "version": "3.7.3"
  }
 },
 "nbformat": 4,
 "nbformat_minor": 2
}
